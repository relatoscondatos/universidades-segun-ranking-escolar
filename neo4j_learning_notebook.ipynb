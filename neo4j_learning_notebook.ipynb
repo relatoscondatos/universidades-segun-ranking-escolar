{
 "cells": [
  {
   "cell_type": "markdown",
   "metadata": {},
   "source": [
    "# Neo4j Knowledge Graph Learning Notebook\n",
    "\n",
    "This notebook will help you learn Neo4j by creating a sample knowledge graph with dummy data.\n",
    "We'll cover connections to both local Neo4j instances and Neo4j Aura.\n",
    "\n",
    "## Prerequisites\n",
    "- Install required packages: `pip install neo4j pandas matplotlib seaborn`\n",
    "- Neo4j instance running locally OR Neo4j Aura instance\n"
   ]
  },
  {
   "cell_type": "code",
   "execution_count": 1,
   "metadata": {},
   "outputs": [
    {
     "name": "stdout",
     "output_type": "stream",
     "text": [
      "Defaulting to user installation because normal site-packages is not writeable\n",
      "Collecting neo4j\n",
      "  Downloading neo4j-5.28.2-py3-none-any.whl.metadata (5.9 kB)\n",
      "Requirement already satisfied: pandas in /Users/ernestolaval/Library/Python/3.9/lib/python/site-packages (2.1.0)\n",
      "Requirement already satisfied: matplotlib in /Users/ernestolaval/Library/Python/3.9/lib/python/site-packages (3.9.4)\n",
      "Requirement already satisfied: seaborn in /Users/ernestolaval/Library/Python/3.9/lib/python/site-packages (0.13.2)\n",
      "Requirement already satisfied: pytz in /Users/ernestolaval/Library/Python/3.9/lib/python/site-packages (from neo4j) (2023.3.post1)\n",
      "Requirement already satisfied: numpy>=1.22.4 in /Users/ernestolaval/Library/Python/3.9/lib/python/site-packages (from pandas) (2.0.2)\n",
      "Requirement already satisfied: python-dateutil>=2.8.2 in /Users/ernestolaval/Library/Python/3.9/lib/python/site-packages (from pandas) (2.8.2)\n",
      "Requirement already satisfied: tzdata>=2022.1 in /Users/ernestolaval/Library/Python/3.9/lib/python/site-packages (from pandas) (2023.4)\n",
      "Requirement already satisfied: contourpy>=1.0.1 in /Users/ernestolaval/Library/Python/3.9/lib/python/site-packages (from matplotlib) (1.3.0)\n",
      "Requirement already satisfied: cycler>=0.10 in /Users/ernestolaval/Library/Python/3.9/lib/python/site-packages (from matplotlib) (0.12.1)\n",
      "Requirement already satisfied: fonttools>=4.22.0 in /Users/ernestolaval/Library/Python/3.9/lib/python/site-packages (from matplotlib) (4.57.0)\n",
      "Requirement already satisfied: kiwisolver>=1.3.1 in /Users/ernestolaval/Library/Python/3.9/lib/python/site-packages (from matplotlib) (1.4.7)\n",
      "Requirement already satisfied: packaging>=20.0 in /Users/ernestolaval/Library/Python/3.9/lib/python/site-packages (from matplotlib) (25.0)\n",
      "Requirement already satisfied: pillow>=8 in /Users/ernestolaval/Library/Python/3.9/lib/python/site-packages (from matplotlib) (10.4.0)\n",
      "Requirement already satisfied: pyparsing>=2.3.1 in /Users/ernestolaval/Library/Python/3.9/lib/python/site-packages (from matplotlib) (3.2.3)\n",
      "Requirement already satisfied: importlib-resources>=3.2.0 in /Users/ernestolaval/Library/Python/3.9/lib/python/site-packages (from matplotlib) (6.5.2)\n",
      "Requirement already satisfied: zipp>=3.1.0 in /Users/ernestolaval/Library/Python/3.9/lib/python/site-packages (from importlib-resources>=3.2.0->matplotlib) (3.20.0)\n",
      "Requirement already satisfied: six>=1.5 in /Users/ernestolaval/Library/Python/3.9/lib/python/site-packages (from python-dateutil>=2.8.2->pandas) (1.16.0)\n",
      "Downloading neo4j-5.28.2-py3-none-any.whl (313 kB)\n",
      "Installing collected packages: neo4j\n",
      "Successfully installed neo4j-5.28.2\n",
      "\n",
      "\u001b[1m[\u001b[0m\u001b[34;49mnotice\u001b[0m\u001b[1;39;49m]\u001b[0m\u001b[39;49m A new release of pip is available: \u001b[0m\u001b[31;49m24.2\u001b[0m\u001b[39;49m -> \u001b[0m\u001b[32;49m25.2\u001b[0m\n",
      "\u001b[1m[\u001b[0m\u001b[34;49mnotice\u001b[0m\u001b[1;39;49m]\u001b[0m\u001b[39;49m To update, run: \u001b[0m\u001b[32;49m/Applications/Xcode.app/Contents/Developer/usr/bin/python3 -m pip install --upgrade pip\u001b[0m\n"
     ]
    }
   ],
   "source": [
    "# Install required packages\n",
    "!pip install neo4j pandas matplotlib seaborn"
   ]
  },
  {
   "cell_type": "code",
   "execution_count": 8,
   "metadata": {},
   "outputs": [],
   "source": [
    "import os\n",
    "from neo4j import GraphDatabase\n",
    "import pandas as pd\n",
    "import matplotlib.pyplot as plt\n",
    "import seaborn as sns\n",
    "from datetime import datetime, timedelta\n",
    "import random\n",
    "\n",
    "# Set style for plots\n",
    "plt.style.use('seaborn-v0_8')\n",
    "sns.set_palette(\"husl\")"
   ]
  },
  {
   "cell_type": "markdown",
   "metadata": {},
   "source": [
    "## 1. Database Connection Setup\n",
    "\n",
    "Choose one of the connection methods below based on your setup."
   ]
  },
  {
   "cell_type": "code",
   "execution_count": 14,
   "metadata": {},
   "outputs": [],
   "source": [
    "class Neo4jConnection:\n",
    "    def __init__(self, uri, user, password, database=None):\n",
    "        self.uri = uri\n",
    "        self.user = user\n",
    "        self.password = password\n",
    "        self.database = database\n",
    "        self.driver = GraphDatabase.driver(uri, auth=(user, password))\n",
    "    \n",
    "    def close(self):\n",
    "        self.driver.close()\n",
    "    \n",
    "    def get_available_databases(self):\n",
    "        \"\"\"Get list of available databases\"\"\"\n",
    "        try:\n",
    "            with self.driver.session() as session:\n",
    "                result = session.run(\"SHOW DATABASES\")\n",
    "                return [record[\"name\"] for record in result if record[\"currentStatus\"] == \"online\"]\n",
    "        except Exception as e:\n",
    "            print(f\"Could not list databases: {e}\")\n",
    "            return [\"neo4j\"]  # Default fallback\n",
    "    \n",
    "    def run_query(self, query, parameters=None):\n",
    "        with self.driver.session(database=self.database) as session:\n",
    "            result = session.run(query, parameters or {})\n",
    "            return [record for record in result]\n",
    "    \n",
    "    def run_write_query(self, query, parameters=None):\n",
    "        with self.driver.session(database=self.database) as session:\n",
    "            result = session.write_transaction(lambda tx: tx.run(query, parameters or {}))\n",
    "            return result"
   ]
  },
  {
   "cell_type": "code",
   "execution_count": 44,
   "metadata": {},
   "outputs": [
    {
     "name": "stdout",
     "output_type": "stream",
     "text": [
      "Connected to Neo4j Aura instance\n",
      "Could not list databases: Cannot resolve address your-instance.databases.neo4j.io:7687\n",
      "Available databases: ['neo4j']\n",
      "Using database: neo4j\n",
      "Connection failed: Cannot resolve address your-instance.databases.neo4j.io:7687\n",
      "\\nTroubleshooting tips:\n",
      "1. Make sure Neo4j is running (check http://localhost:7474)\n",
      "2. Verify your username and password\n",
      "3. For Aura, check your connection string and credentials\n",
      "4. Try using 'system' database by running: USE system\n"
     ]
    }
   ],
   "source": [
    "# Connection Configuration\n",
    "# Choose one of the following connection methods:\n",
    "\n",
    "# Option 1: Local Neo4j (default setup)\n",
    "LOCAL_URI = \"bolt://localhost:7687\"\n",
    "LOCAL_USER = \"neo4j\"\n",
    "LOCAL_PASSWORD = \"M1C0ntrasen@\"  # Change to your local password\n",
    "\n",
    "# Option 2: Neo4j Aura (replace with your Aura credentials)\n",
    "AURA_URI = \"neo4j+s://your-instance.databases.neo4j.io\"\n",
    "AURA_USER = \"neo4j\"\n",
    "AURA_PASSWORD = \"e7ldDfSrG2uUojvyOZXF7FiAErq-TqQimWZcBY0GN3w\"\n",
    "\n",
    "# Select connection type (change to 'aura' for Aura connection)\n",
    "connection_type = 'aura'  # or 'aura' or 'local\n",
    "\n",
    "# First, establish basic connection to detect databases\n",
    "if connection_type == 'local':\n",
    "    temp_conn = Neo4jConnection(LOCAL_URI, LOCAL_USER, LOCAL_PASSWORD)\n",
    "    print(\"Connected to local Neo4j instance\")\n",
    "else:\n",
    "    temp_conn = Neo4jConnection(AURA_URI, AURA_USER, AURA_PASSWORD)\n",
    "    print(\"Connected to Neo4j Aura instance\")\n",
    "\n",
    "# Detect available databases\n",
    "try:\n",
    "    available_databases = temp_conn.get_available_databases()\n",
    "    print(f\"Available databases: {available_databases}\")\n",
    "    \n",
    "    # Choose the first available database (usually 'neo4j' or 'system')\n",
    "    target_database = None\n",
    "    for db_name in ['neo4j', 'movies', 'system']:\n",
    "        if db_name in available_databases:\n",
    "            target_database = db_name\n",
    "            break\n",
    "    \n",
    "    if not target_database:\n",
    "        target_database = available_databases[0] if available_databases else 'neo4j'\n",
    "    \n",
    "    print(f\"Using database: {target_database}\")\n",
    "    \n",
    "    # Close temporary connection and create new one with specific database\n",
    "    temp_conn.close()\n",
    "    \n",
    "    if connection_type == 'local':\n",
    "        conn = Neo4jConnection(LOCAL_URI, LOCAL_USER, LOCAL_PASSWORD, target_database)\n",
    "    else:\n",
    "        conn = Neo4jConnection(AURA_URI, AURA_USER, AURA_PASSWORD, target_database)\n",
    "    \n",
    "    # Test connection with specific database\n",
    "    result = conn.run_query(\"RETURN 'Connection successful!' as message\")\n",
    "    print(f\"Test result: {result[0]['message']}\")\n",
    "    \n",
    "except Exception as e:\n",
    "    print(f\"Connection failed: {e}\")\n",
    "    print(\"\\\\nTroubleshooting tips:\")\n",
    "    print(\"1. Make sure Neo4j is running (check http://localhost:7474)\")\n",
    "    print(\"2. Verify your username and password\")\n",
    "    print(\"3. For Aura, check your connection string and credentials\")\n",
    "    print(\"4. Try using 'system' database by running: USE system\")\n",
    "    temp_conn.close()"
   ]
  },
  {
   "cell_type": "code",
   "execution_count": 12,
   "metadata": {},
   "outputs": [],
   "source": [
    "# Alternative: Manual database selection (run this if automatic detection fails)\n",
    "# Uncomment and run this cell to manually specify a database\n",
    "\n",
    "# manual_database = \"system\"  # Try \"system\", \"movies\", or other available databases\n",
    "# \n",
    "# if connection_type == 'local':\n",
    "#     conn = Neo4jConnection(LOCAL_URI, LOCAL_USER, LOCAL_PASSWORD, manual_database)\n",
    "# else:\n",
    "#     conn = Neo4jConnection(AURA_URI, AURA_USER, AURA_PASSWORD, manual_database)\n",
    "# \n",
    "# try:\n",
    "#     result = conn.run_query(\"RETURN 'Manual connection successful!' as message\")\n",
    "#     print(f\"Manual connection test: {result[0]['message']}\")\n",
    "#     print(f\"Using database: {manual_database}\")\n",
    "# except Exception as e:\n",
    "#     print(f\"Manual connection failed: {e}\")"
   ]
  },
  {
   "cell_type": "markdown",
   "metadata": {},
   "source": [
    "## 2. Clear Existing Data (Optional)\n",
    "\n",
    "Run this cell if you want to start with a clean database."
   ]
  },
  {
   "cell_type": "code",
   "execution_count": 17,
   "metadata": {},
   "outputs": [
    {
     "name": "stdin",
     "output_type": "stream",
     "text": [
      "Do you want to clear the database? (yes/no):  yes\n"
     ]
    },
    {
     "name": "stdout",
     "output_type": "stream",
     "text": [
      "Database cleared!\n"
     ]
    }
   ],
   "source": [
    "# Clear all nodes and relationships (use with caution!)\n",
    "clear_db = input(\"Do you want to clear the database? (yes/no): \")\n",
    "if clear_db.lower() == 'yes':\n",
    "    conn.run_query(\"MATCH (n) DETACH DELETE n\")\n",
    "    print(\"Database cleared!\")\n",
    "else:\n",
    "    print(\"Database not cleared.\")"
   ]
  },
  {
   "cell_type": "markdown",
   "metadata": {},
   "source": [
    "## 3. Create Sample Knowledge Graph: Tech Company Dataset\n",
    "\n",
    "We'll create a knowledge graph representing:\n",
    "- **People** (employees)\n",
    "- **Companies** \n",
    "- **Technologies**\n",
    "- **Projects**\n",
    "- **Skills**\n",
    "\n",
    "With relationships like:\n",
    "- WORKS_FOR\n",
    "- KNOWS (technology/skill)\n",
    "- WORKED_ON (project)\n",
    "- USES (technology in project)\n",
    "- COLLABORATES_WITH"
   ]
  },
  {
   "cell_type": "code",
   "execution_count": 18,
   "metadata": {},
   "outputs": [
    {
     "name": "stdout",
     "output_type": "stream",
     "text": [
      "Created constraint: person_email\n",
      "Created constraint: company_name\n",
      "Created constraint: technology_name\n",
      "Created constraint: project_name\n"
     ]
    }
   ],
   "source": [
    "# Create constraints for unique properties\n",
    "constraints = [\n",
    "    \"CREATE CONSTRAINT person_email IF NOT EXISTS FOR (p:Person) REQUIRE p.email IS UNIQUE\",\n",
    "    \"CREATE CONSTRAINT company_name IF NOT EXISTS FOR (c:Company) REQUIRE c.name IS UNIQUE\",\n",
    "    \"CREATE CONSTRAINT technology_name IF NOT EXISTS FOR (t:Technology) REQUIRE t.name IS UNIQUE\",\n",
    "    \"CREATE CONSTRAINT project_name IF NOT EXISTS FOR (pr:Project) REQUIRE pr.name IS UNIQUE\"\n",
    "]\n",
    "\n",
    "for constraint in constraints:\n",
    "    try:\n",
    "        conn.run_query(constraint)\n",
    "        print(f\"Created constraint: {constraint.split()[2]}\")\n",
    "    except Exception as e:\n",
    "        print(f\"Constraint may already exist: {e}\")"
   ]
  },
  {
   "cell_type": "code",
   "execution_count": 19,
   "metadata": {},
   "outputs": [
    {
     "name": "stdout",
     "output_type": "stream",
     "text": [
      "Sample data prepared!\n",
      "Companies: 4\n",
      "Technologies: 8\n",
      "People: 8\n",
      "Projects: 5\n"
     ]
    }
   ],
   "source": [
    "# Sample data generation\n",
    "companies = [\n",
    "    {\"name\": \"TechCorp\", \"industry\": \"Software\", \"founded\": 2010, \"employees\": 500},\n",
    "    {\"name\": \"DataWorks\", \"industry\": \"Analytics\", \"founded\": 2015, \"employees\": 200},\n",
    "    {\"name\": \"CloudFlow\", \"industry\": \"Cloud Services\", \"founded\": 2018, \"employees\": 150},\n",
    "    {\"name\": \"AIVentures\", \"industry\": \"Artificial Intelligence\", \"founded\": 2020, \"employees\": 80}\n",
    "]\n",
    "\n",
    "technologies = [\n",
    "    {\"name\": \"Python\", \"category\": \"Programming Language\", \"popularity\": 9.5},\n",
    "    {\"name\": \"JavaScript\", \"category\": \"Programming Language\", \"popularity\": 9.0},\n",
    "    {\"name\": \"Neo4j\", \"category\": \"Database\", \"popularity\": 7.5},\n",
    "    {\"name\": \"React\", \"category\": \"Frontend Framework\", \"popularity\": 8.5},\n",
    "    {\"name\": \"Docker\", \"category\": \"Containerization\", \"popularity\": 8.0},\n",
    "    {\"name\": \"Kubernetes\", \"category\": \"Orchestration\", \"popularity\": 7.8},\n",
    "    {\"name\": \"TensorFlow\", \"category\": \"Machine Learning\", \"popularity\": 8.2},\n",
    "    {\"name\": \"AWS\", \"category\": \"Cloud Platform\", \"popularity\": 9.2}\n",
    "]\n",
    "\n",
    "people = [\n",
    "    {\"name\": \"Alice Johnson\", \"email\": \"alice@techcorp.com\", \"role\": \"Senior Developer\", \"experience\": 8},\n",
    "    {\"name\": \"Bob Smith\", \"email\": \"bob@dataworks.com\", \"role\": \"Data Scientist\", \"experience\": 5},\n",
    "    {\"name\": \"Carol Davis\", \"email\": \"carol@cloudflow.com\", \"role\": \"DevOps Engineer\", \"experience\": 6},\n",
    "    {\"name\": \"David Wilson\", \"email\": \"david@aiventures.com\", \"role\": \"ML Engineer\", \"experience\": 4},\n",
    "    {\"name\": \"Eva Brown\", \"email\": \"eva@techcorp.com\", \"role\": \"Frontend Developer\", \"experience\": 3},\n",
    "    {\"name\": \"Frank Miller\", \"email\": \"frank@dataworks.com\", \"role\": \"Backend Developer\", \"experience\": 7},\n",
    "    {\"name\": \"Grace Lee\", \"email\": \"grace@cloudflow.com\", \"role\": \"Cloud Architect\", \"experience\": 10},\n",
    "    {\"name\": \"Henry Taylor\", \"email\": \"henry@aiventures.com\", \"role\": \"Research Scientist\", \"experience\": 12}\n",
    "]\n",
    "\n",
    "projects = [\n",
    "    {\"name\": \"Customer Analytics Platform\", \"status\": \"Active\", \"budget\": 500000},\n",
    "    {\"name\": \"Mobile App Redesign\", \"status\": \"Completed\", \"budget\": 200000},\n",
    "    {\"name\": \"Cloud Migration\", \"status\": \"Active\", \"budget\": 800000},\n",
    "    {\"name\": \"AI Recommendation Engine\", \"status\": \"Planning\", \"budget\": 1000000},\n",
    "    {\"name\": \"Real-time Dashboard\", \"status\": \"Active\", \"budget\": 300000}\n",
    "]\n",
    "\n",
    "print(\"Sample data prepared!\")\n",
    "print(f\"Companies: {len(companies)}\")\n",
    "print(f\"Technologies: {len(technologies)}\")\n",
    "print(f\"People: {len(people)}\")\n",
    "print(f\"Projects: {len(projects)}\")"
   ]
  },
  {
   "cell_type": "code",
   "execution_count": 20,
   "metadata": {},
   "outputs": [
    {
     "name": "stdout",
     "output_type": "stream",
     "text": [
      "Created Company nodes\n"
     ]
    }
   ],
   "source": [
    "# Create Company nodes\n",
    "for company in companies:\n",
    "    query = \"\"\"\n",
    "    CREATE (c:Company {\n",
    "        name: $name,\n",
    "        industry: $industry,\n",
    "        founded: $founded,\n",
    "        employees: $employees\n",
    "    })\n",
    "    \"\"\"\n",
    "    conn.run_query(query, company)\n",
    "\n",
    "print(\"Created Company nodes\")"
   ]
  },
  {
   "cell_type": "code",
   "execution_count": 21,
   "metadata": {},
   "outputs": [
    {
     "name": "stdout",
     "output_type": "stream",
     "text": [
      "Created Technology nodes\n"
     ]
    }
   ],
   "source": [
    "# Create Technology nodes\n",
    "for tech in technologies:\n",
    "    query = \"\"\"\n",
    "    CREATE (t:Technology {\n",
    "        name: $name,\n",
    "        category: $category,\n",
    "        popularity: $popularity\n",
    "    })\n",
    "    \"\"\"\n",
    "    conn.run_query(query, tech)\n",
    "\n",
    "print(\"Created Technology nodes\")"
   ]
  },
  {
   "cell_type": "code",
   "execution_count": 22,
   "metadata": {},
   "outputs": [
    {
     "name": "stdout",
     "output_type": "stream",
     "text": [
      "Created Project nodes\n"
     ]
    }
   ],
   "source": [
    "# Create Project nodes\n",
    "for project in projects:\n",
    "    query = \"\"\"\n",
    "    CREATE (p:Project {\n",
    "        name: $name,\n",
    "        status: $status,\n",
    "        budget: $budget\n",
    "    })\n",
    "    \"\"\"\n",
    "    conn.run_query(query, project)\n",
    "\n",
    "print(\"Created Project nodes\")"
   ]
  },
  {
   "cell_type": "code",
   "execution_count": 23,
   "metadata": {},
   "outputs": [
    {
     "name": "stdout",
     "output_type": "stream",
     "text": [
      "Created Person nodes and WORKS_FOR relationships\n"
     ]
    }
   ],
   "source": [
    "# Create Person nodes and WORKS_FOR relationships\n",
    "company_assignments = {\n",
    "    \"alice@techcorp.com\": \"TechCorp\",\n",
    "    \"eva@techcorp.com\": \"TechCorp\",\n",
    "    \"bob@dataworks.com\": \"DataWorks\",\n",
    "    \"frank@dataworks.com\": \"DataWorks\",\n",
    "    \"carol@cloudflow.com\": \"CloudFlow\",\n",
    "    \"grace@cloudflow.com\": \"CloudFlow\",\n",
    "    \"david@aiventures.com\": \"AIVentures\",\n",
    "    \"henry@aiventures.com\": \"AIVentures\"\n",
    "}\n",
    "\n",
    "for person in people:\n",
    "    company_name = company_assignments[person[\"email\"]]\n",
    "    query = \"\"\"\n",
    "    CREATE (p:Person {\n",
    "        name: $name,\n",
    "        email: $email,\n",
    "        role: $role,\n",
    "        experience: $experience\n",
    "    })\n",
    "    WITH p\n",
    "    MATCH (c:Company {name: $company_name})\n",
    "    CREATE (p)-[:WORKS_FOR {start_date: date('2020-01-01')}]->(c)\n",
    "    \"\"\"\n",
    "    params = person.copy()\n",
    "    params[\"company_name\"] = company_name\n",
    "    conn.run_query(query, params)\n",
    "\n",
    "print(\"Created Person nodes and WORKS_FOR relationships\")"
   ]
  },
  {
   "cell_type": "code",
   "execution_count": 24,
   "metadata": {},
   "outputs": [
    {
     "name": "stdout",
     "output_type": "stream",
     "text": [
      "Created KNOWS relationships (Person -> Technology)\n"
     ]
    }
   ],
   "source": [
    "# Create KNOWS relationships (Person -> Technology)\n",
    "skill_assignments = {\n",
    "    \"Alice Johnson\": [\"Python\", \"JavaScript\", \"React\", \"Docker\"],\n",
    "    \"Bob Smith\": [\"Python\", \"TensorFlow\", \"Neo4j\", \"AWS\"],\n",
    "    \"Carol Davis\": [\"Docker\", \"Kubernetes\", \"AWS\", \"Python\"],\n",
    "    \"David Wilson\": [\"Python\", \"TensorFlow\", \"Docker\", \"AWS\"],\n",
    "    \"Eva Brown\": [\"JavaScript\", \"React\", \"Python\"],\n",
    "    \"Frank Miller\": [\"Python\", \"JavaScript\", \"Neo4j\", \"Docker\"],\n",
    "    \"Grace Lee\": [\"AWS\", \"Kubernetes\", \"Docker\", \"Python\"],\n",
    "    \"Henry Taylor\": [\"Python\", \"TensorFlow\", \"Neo4j\"]\n",
    "}\n",
    "\n",
    "for person_name, skills in skill_assignments.items():\n",
    "    for skill in skills:\n",
    "        proficiency = random.randint(6, 10)  # Random proficiency level\n",
    "        query = \"\"\"\n",
    "        MATCH (p:Person {name: $person_name})\n",
    "        MATCH (t:Technology {name: $skill})\n",
    "        CREATE (p)-[:KNOWS {proficiency: $proficiency, years: $years}]->(t)\n",
    "        \"\"\"\n",
    "        conn.run_query(query, {\n",
    "            \"person_name\": person_name,\n",
    "            \"skill\": skill,\n",
    "            \"proficiency\": proficiency,\n",
    "            \"years\": random.randint(1, 5)\n",
    "        })\n",
    "\n",
    "print(\"Created KNOWS relationships (Person -> Technology)\")"
   ]
  },
  {
   "cell_type": "code",
   "execution_count": 25,
   "metadata": {},
   "outputs": [
    {
     "name": "stdout",
     "output_type": "stream",
     "text": [
      "Created WORKED_ON relationships (Person -> Project)\n"
     ]
    }
   ],
   "source": [
    "# Create WORKED_ON relationships (Person -> Project)\n",
    "project_assignments = {\n",
    "    \"Customer Analytics Platform\": [\"Bob Smith\", \"Frank Miller\", \"Alice Johnson\"],\n",
    "    \"Mobile App Redesign\": [\"Eva Brown\", \"Alice Johnson\"],\n",
    "    \"Cloud Migration\": [\"Carol Davis\", \"Grace Lee\", \"Frank Miller\"],\n",
    "    \"AI Recommendation Engine\": [\"David Wilson\", \"Henry Taylor\", \"Bob Smith\"],\n",
    "    \"Real-time Dashboard\": [\"Alice Johnson\", \"Eva Brown\", \"Frank Miller\"]\n",
    "}\n",
    "\n",
    "for project_name, team_members in project_assignments.items():\n",
    "    for person_name in team_members:\n",
    "        role_in_project = random.choice([\"Developer\", \"Lead\", \"Contributor\", \"Architect\"])\n",
    "        query = \"\"\"\n",
    "        MATCH (p:Person {name: $person_name})\n",
    "        MATCH (pr:Project {name: $project_name})\n",
    "        CREATE (p)-[:WORKED_ON {\n",
    "            role: $role,\n",
    "            start_date: date('2023-01-01'),\n",
    "            contribution: $contribution\n",
    "        }]->(pr)\n",
    "        \"\"\"\n",
    "        conn.run_query(query, {\n",
    "            \"person_name\": person_name,\n",
    "            \"project_name\": project_name,\n",
    "            \"role\": role_in_project,\n",
    "            \"contribution\": random.randint(10, 90)\n",
    "        })\n",
    "\n",
    "print(\"Created WORKED_ON relationships (Person -> Project)\")"
   ]
  },
  {
   "cell_type": "code",
   "execution_count": 26,
   "metadata": {},
   "outputs": [
    {
     "name": "stdout",
     "output_type": "stream",
     "text": [
      "Created USES relationships (Project -> Technology)\n"
     ]
    }
   ],
   "source": [
    "# Create USES relationships (Project -> Technology)\n",
    "project_tech_stack = {\n",
    "    \"Customer Analytics Platform\": [\"Python\", \"Neo4j\", \"TensorFlow\", \"AWS\"],\n",
    "    \"Mobile App Redesign\": [\"JavaScript\", \"React\", \"AWS\"],\n",
    "    \"Cloud Migration\": [\"Docker\", \"Kubernetes\", \"AWS\", \"Python\"],\n",
    "    \"AI Recommendation Engine\": [\"Python\", \"TensorFlow\", \"AWS\", \"Docker\"],\n",
    "    \"Real-time Dashboard\": [\"JavaScript\", \"React\", \"Python\", \"AWS\"]\n",
    "}\n",
    "\n",
    "for project_name, technologies in project_tech_stack.items():\n",
    "    for tech in technologies:\n",
    "        query = \"\"\"\n",
    "        MATCH (pr:Project {name: $project_name})\n",
    "        MATCH (t:Technology {name: $tech})\n",
    "        CREATE (pr)-[:USES {importance: $importance}]->(t)\n",
    "        \"\"\"\n",
    "        conn.run_query(query, {\n",
    "            \"project_name\": project_name,\n",
    "            \"tech\": tech,\n",
    "            \"importance\": random.choice([\"High\", \"Medium\", \"Low\"])\n",
    "        })\n",
    "\n",
    "print(\"Created USES relationships (Project -> Technology)\")"
   ]
  },
  {
   "cell_type": "code",
   "execution_count": 27,
   "metadata": {},
   "outputs": [
    {
     "name": "stdout",
     "output_type": "stream",
     "text": [
      "Created COLLABORATES_WITH relationships\n"
     ]
    }
   ],
   "source": [
    "# Create COLLABORATES_WITH relationships (Person -> Person)\n",
    "# People who worked on the same project collaborate with each other\n",
    "query = \"\"\"\n",
    "MATCH (p1:Person)-[:WORKED_ON]->(project:Project)<-[:WORKED_ON]-(p2:Person)\n",
    "WHERE p1 <> p2 AND NOT EXISTS((p1)-[:COLLABORATES_WITH]-(p2))\n",
    "CREATE (p1)-[:COLLABORATES_WITH {projects_together: 1, since: date('2023-01-01')}]->(p2)\n",
    "\"\"\"\n",
    "conn.run_query(query)\n",
    "\n",
    "print(\"Created COLLABORATES_WITH relationships\")"
   ]
  },
  {
   "cell_type": "markdown",
   "metadata": {},
   "source": [
    "## 4. Basic Cypher Queries for Learning\n",
    "\n",
    "Now let's explore the knowledge graph with various Cypher queries."
   ]
  },
  {
   "cell_type": "code",
   "execution_count": 28,
   "metadata": {},
   "outputs": [
    {
     "name": "stdout",
     "output_type": "stream",
     "text": [
      "APOC procedures not available. Getting basic stats instead...\n",
      "Total Nodes: 25\n",
      "Total Relationships: 97\n"
     ]
    }
   ],
   "source": [
    "# Query 1: Get overview of the graph\n",
    "overview_query = \"\"\"\n",
    "CALL apoc.meta.stats() YIELD labelCount, relTypeCount, propertyKeyCount, nodeCount, relCount\n",
    "RETURN \n",
    "    nodeCount as total_nodes,\n",
    "    relCount as total_relationships,\n",
    "    labelCount as node_types,\n",
    "    relTypeCount as relationship_types\n",
    "\"\"\"\n",
    "\n",
    "try:\n",
    "    result = conn.run_query(overview_query)\n",
    "    if result:\n",
    "        stats = result[0]\n",
    "        print(\"Graph Overview:\")\n",
    "        print(f\"Total Nodes: {stats['total_nodes']}\")\n",
    "        print(f\"Total Relationships: {stats['total_relationships']}\")\n",
    "        print(f\"Node Types: {stats['node_types']}\")\n",
    "        print(f\"Relationship Types: {stats['relationship_types']}\")\n",
    "except Exception as e:\n",
    "    print(\"APOC procedures not available. Getting basic stats instead...\")\n",
    "    # Alternative query without APOC\n",
    "    basic_stats = conn.run_query(\"MATCH (n) RETURN count(n) as total_nodes\")\n",
    "    rel_stats = conn.run_query(\"MATCH ()-[r]->() RETURN count(r) as total_relationships\")\n",
    "    print(f\"Total Nodes: {basic_stats[0]['total_nodes']}\")\n",
    "    print(f\"Total Relationships: {rel_stats[0]['total_relationships']}\")"
   ]
  },
  {
   "cell_type": "code",
   "execution_count": 29,
   "metadata": {},
   "outputs": [
    {
     "name": "stdout",
     "output_type": "stream",
     "text": [
      "People and their Companies:\n",
      "       person               role    company                industry\n",
      " David Wilson        ML Engineer AIVentures Artificial Intelligence\n",
      " Henry Taylor Research Scientist AIVentures Artificial Intelligence\n",
      "  Carol Davis    DevOps Engineer  CloudFlow          Cloud Services\n",
      "    Grace Lee    Cloud Architect  CloudFlow          Cloud Services\n",
      "    Bob Smith     Data Scientist  DataWorks               Analytics\n",
      " Frank Miller  Backend Developer  DataWorks               Analytics\n",
      "Alice Johnson   Senior Developer   TechCorp                Software\n",
      "    Eva Brown Frontend Developer   TechCorp                Software\n"
     ]
    }
   ],
   "source": [
    "# Query 2: Find all people and their companies\n",
    "query = \"\"\"\n",
    "MATCH (p:Person)-[:WORKS_FOR]->(c:Company)\n",
    "RETURN p.name as person, p.role as role, c.name as company, c.industry as industry\n",
    "ORDER BY c.name, p.name\n",
    "\"\"\"\n",
    "\n",
    "result = conn.run_query(query)\n",
    "df_people = pd.DataFrame([dict(record) for record in result])\n",
    "print(\"People and their Companies:\")\n",
    "print(df_people.to_string(index=False))"
   ]
  },
  {
   "cell_type": "code",
   "execution_count": 31,
   "metadata": {},
   "outputs": [
    {
     "name": "stdout",
     "output_type": "stream",
     "text": [
      "Technology Popularity in Our Dataset:\n",
      "technology             category  people_count  avg_proficiency  market_popularity\n",
      "    Python Programming Language             8         8.125000                9.5\n",
      "    Docker     Containerization             5         8.000000                8.0\n",
      "       AWS       Cloud Platform             4         8.750000                9.2\n",
      "JavaScript Programming Language             3         9.000000                9.0\n",
      "TensorFlow     Machine Learning             3         8.333333                8.2\n",
      "     Neo4j             Database             3         8.000000                7.5\n",
      "     React   Frontend Framework             2         7.500000                8.5\n",
      "Kubernetes        Orchestration             2         7.500000                7.8\n"
     ]
    }
   ],
   "source": [
    "# Query 3: Find most popular technologies\n",
    "query = \"\"\"\n",
    "MATCH (p:Person)-[k:KNOWS]->(t:Technology)\n",
    "RETURN t.name as technology, \n",
    "       t.category as category,\n",
    "       count(p) as people_count,\n",
    "       avg(k.proficiency) as avg_proficiency,\n",
    "       t.popularity as market_popularity\n",
    "ORDER BY people_count DESC, avg_proficiency DESC\n",
    "\"\"\"\n",
    "\n",
    "result = conn.run_query(query)\n",
    "df_tech = pd.DataFrame([dict(record) for record in result])\n",
    "print(\"Technology Popularity in Our Dataset:\")\n",
    "print(df_tech.to_string(index=False))"
   ]
  },
  {
   "cell_type": "code",
   "execution_count": 32,
   "metadata": {},
   "outputs": [
    {
     "name": "stdout",
     "output_type": "stream",
     "text": [
      "Project Teams and Skills:\n",
      "\n",
      "Project: AI Recommendation Engine ($1,000,000)\n",
      "Status: Planning\n",
      "Team: Bob Smith, David Wilson, Henry Taylor\n",
      "Skills: Python, Neo4j, TensorFlow, AWS, Docker...\n",
      "\n",
      "Project: Cloud Migration ($800,000)\n",
      "Status: Active\n",
      "Team: Carol Davis, Frank Miller, Grace Lee\n",
      "Skills: Python, Docker, Kubernetes, AWS, JavaScript, Neo4j...\n",
      "\n",
      "Project: Customer Analytics Platform ($500,000)\n",
      "Status: Active\n",
      "Team: Alice Johnson, Bob Smith, Frank Miller\n",
      "Skills: Python, JavaScript, React, Docker, Neo4j, TensorFlow, AWS...\n",
      "\n",
      "Project: Real-time Dashboard ($300,000)\n",
      "Status: Active\n",
      "Team: Alice Johnson, Eva Brown, Frank Miller\n",
      "Skills: Python, JavaScript, React, Docker, Neo4j...\n",
      "\n",
      "Project: Mobile App Redesign ($200,000)\n",
      "Status: Completed\n",
      "Team: Alice Johnson, Eva Brown\n",
      "Skills: Python, JavaScript, React, Docker...\n"
     ]
    }
   ],
   "source": [
    "# Query 4: Find project teams and their skills\n",
    "query = \"\"\"\n",
    "MATCH (p:Person)-[:WORKED_ON]->(pr:Project)\n",
    "OPTIONAL MATCH (p)-[:KNOWS]->(t:Technology)\n",
    "RETURN pr.name as project,\n",
    "       collect(DISTINCT p.name) as team_members,\n",
    "       collect(DISTINCT t.name) as team_skills,\n",
    "       pr.status as status,\n",
    "       pr.budget as budget\n",
    "ORDER BY pr.budget DESC\n",
    "\"\"\"\n",
    "\n",
    "result = conn.run_query(query)\n",
    "print(\"Project Teams and Skills:\")\n",
    "for record in result:\n",
    "    print(f\"\\nProject: {record['project']} (${record['budget']:,})\")\n",
    "    print(f\"Status: {record['status']}\")\n",
    "    print(f\"Team: {', '.join(record['team_members'])}\")\n",
    "    print(f\"Skills: {', '.join(record['team_skills'][:10])}...\")  # Show first 10 skills"
   ]
  },
  {
   "cell_type": "code",
   "execution_count": 33,
   "metadata": {},
   "outputs": [
    {
     "name": "stdout",
     "output_type": "stream",
     "text": [
      "Collaboration Patterns:\n",
      "      person1       person2   company1   company2 collaboration_type\n",
      "Alice Johnson     Bob Smith   TechCorp  DataWorks      Cross-Company\n",
      "Alice Johnson     Bob Smith   TechCorp  DataWorks      Cross-Company\n",
      "Alice Johnson  Frank Miller   TechCorp  DataWorks      Cross-Company\n",
      "Alice Johnson  Frank Miller   TechCorp  DataWorks      Cross-Company\n",
      "Alice Johnson  Frank Miller   TechCorp  DataWorks      Cross-Company\n",
      "Alice Johnson  Frank Miller   TechCorp  DataWorks      Cross-Company\n",
      "    Bob Smith Alice Johnson  DataWorks   TechCorp      Cross-Company\n",
      "    Bob Smith Alice Johnson  DataWorks   TechCorp      Cross-Company\n",
      "    Bob Smith  David Wilson  DataWorks AIVentures      Cross-Company\n",
      "    Bob Smith  David Wilson  DataWorks AIVentures      Cross-Company\n",
      "    Bob Smith  Henry Taylor  DataWorks AIVentures      Cross-Company\n",
      "    Bob Smith  Henry Taylor  DataWorks AIVentures      Cross-Company\n",
      "  Carol Davis  Frank Miller  CloudFlow  DataWorks      Cross-Company\n",
      "  Carol Davis  Frank Miller  CloudFlow  DataWorks      Cross-Company\n",
      " David Wilson     Bob Smith AIVentures  DataWorks      Cross-Company\n",
      " David Wilson     Bob Smith AIVentures  DataWorks      Cross-Company\n",
      "    Eva Brown  Frank Miller   TechCorp  DataWorks      Cross-Company\n",
      "    Eva Brown  Frank Miller   TechCorp  DataWorks      Cross-Company\n",
      " Frank Miller Alice Johnson  DataWorks   TechCorp      Cross-Company\n",
      " Frank Miller Alice Johnson  DataWorks   TechCorp      Cross-Company\n",
      " Frank Miller Alice Johnson  DataWorks   TechCorp      Cross-Company\n",
      " Frank Miller Alice Johnson  DataWorks   TechCorp      Cross-Company\n",
      " Frank Miller   Carol Davis  DataWorks  CloudFlow      Cross-Company\n",
      " Frank Miller   Carol Davis  DataWorks  CloudFlow      Cross-Company\n",
      " Frank Miller     Eva Brown  DataWorks   TechCorp      Cross-Company\n",
      " Frank Miller     Eva Brown  DataWorks   TechCorp      Cross-Company\n",
      " Frank Miller     Grace Lee  DataWorks  CloudFlow      Cross-Company\n",
      " Frank Miller     Grace Lee  DataWorks  CloudFlow      Cross-Company\n",
      "    Grace Lee  Frank Miller  CloudFlow  DataWorks      Cross-Company\n",
      "    Grace Lee  Frank Miller  CloudFlow  DataWorks      Cross-Company\n",
      " Henry Taylor     Bob Smith AIVentures  DataWorks      Cross-Company\n",
      " Henry Taylor     Bob Smith AIVentures  DataWorks      Cross-Company\n",
      "Alice Johnson     Eva Brown   TechCorp   TechCorp           Internal\n",
      "Alice Johnson     Eva Brown   TechCorp   TechCorp           Internal\n",
      "Alice Johnson     Eva Brown   TechCorp   TechCorp           Internal\n",
      "Alice Johnson     Eva Brown   TechCorp   TechCorp           Internal\n",
      "    Bob Smith  Frank Miller  DataWorks  DataWorks           Internal\n",
      "    Bob Smith  Frank Miller  DataWorks  DataWorks           Internal\n",
      "  Carol Davis     Grace Lee  CloudFlow  CloudFlow           Internal\n",
      "  Carol Davis     Grace Lee  CloudFlow  CloudFlow           Internal\n",
      " David Wilson  Henry Taylor AIVentures AIVentures           Internal\n",
      " David Wilson  Henry Taylor AIVentures AIVentures           Internal\n",
      "    Eva Brown Alice Johnson   TechCorp   TechCorp           Internal\n",
      "    Eva Brown Alice Johnson   TechCorp   TechCorp           Internal\n",
      "    Eva Brown Alice Johnson   TechCorp   TechCorp           Internal\n",
      "    Eva Brown Alice Johnson   TechCorp   TechCorp           Internal\n",
      " Frank Miller     Bob Smith  DataWorks  DataWorks           Internal\n",
      " Frank Miller     Bob Smith  DataWorks  DataWorks           Internal\n",
      "    Grace Lee   Carol Davis  CloudFlow  CloudFlow           Internal\n",
      "    Grace Lee   Carol Davis  CloudFlow  CloudFlow           Internal\n",
      " Henry Taylor  David Wilson AIVentures AIVentures           Internal\n",
      " Henry Taylor  David Wilson AIVentures AIVentures           Internal\n"
     ]
    }
   ],
   "source": [
    "# Query 5: Find collaboration patterns\n",
    "query = \"\"\"\n",
    "MATCH (p1:Person)-[:COLLABORATES_WITH]-(p2:Person)\n",
    "MATCH (p1)-[:WORKS_FOR]->(c1:Company)\n",
    "MATCH (p2)-[:WORKS_FOR]->(c2:Company)\n",
    "RETURN p1.name as person1, \n",
    "       p2.name as person2,\n",
    "       c1.name as company1,\n",
    "       c2.name as company2,\n",
    "       CASE WHEN c1.name = c2.name THEN 'Internal' ELSE 'Cross-Company' END as collaboration_type\n",
    "ORDER BY collaboration_type, p1.name\n",
    "\"\"\"\n",
    "\n",
    "result = conn.run_query(query)\n",
    "df_collab = pd.DataFrame([dict(record) for record in result])\n",
    "print(\"Collaboration Patterns:\")\n",
    "print(df_collab.to_string(index=False))"
   ]
  },
  {
   "cell_type": "code",
   "execution_count": 34,
   "metadata": {},
   "outputs": [
    {
     "name": "stdout",
     "output_type": "stream",
     "text": [
      "Skill Gaps in Projects:\n",
      "                    project technology  team_size  people_with_skill  skill_gap  avg_proficiency\n",
      "        Real-time Dashboard        AWS          3                  0          3              0.0\n",
      "   AI Recommendation Engine     Docker          3                  1          2              7.0\n",
      "Customer Analytics Platform TensorFlow          3                  1          2              8.0\n",
      "Customer Analytics Platform        AWS          3                  1          2             10.0\n",
      "        Mobile App Redesign        AWS          2                  0          2              0.0\n",
      "   AI Recommendation Engine        AWS          3                  2          1             10.0\n",
      "            Cloud Migration Kubernetes          3                  2          1              7.5\n",
      "            Cloud Migration        AWS          3                  2          1              7.5\n",
      "Customer Analytics Platform      Neo4j          3                  2          1              8.5\n",
      "        Real-time Dashboard      React          3                  2          1              7.5\n"
     ]
    }
   ],
   "source": [
    "# Query 6: Find skill gaps in projects\n",
    "query = \"\"\"\n",
    "MATCH (pr:Project)-[:USES]->(tech:Technology)\n",
    "OPTIONAL MATCH (p:Person)-[:WORKED_ON]->(pr)\n",
    "OPTIONAL MATCH (p)-[k:KNOWS]->(tech)\n",
    "WITH pr, tech, \n",
    "     count(p) as team_size,\n",
    "     count(k) as people_with_skill,\n",
    "     avg(k.proficiency) as avg_skill_level\n",
    "WHERE team_size > people_with_skill\n",
    "RETURN pr.name as project,\n",
    "       tech.name as technology,\n",
    "       team_size,\n",
    "       people_with_skill,\n",
    "       (team_size - people_with_skill) as skill_gap,\n",
    "       COALESCE(avg_skill_level, 0) as avg_proficiency\n",
    "ORDER BY skill_gap DESC, project\n",
    "\"\"\"\n",
    "\n",
    "result = conn.run_query(query)\n",
    "df_gaps = pd.DataFrame([dict(record) for record in result])\n",
    "print(\"Skill Gaps in Projects:\")\n",
    "if not df_gaps.empty:\n",
    "    print(df_gaps.to_string(index=False))\n",
    "else:\n",
    "    print(\"No significant skill gaps found in current projects!\")"
   ]
  },
  {
   "cell_type": "markdown",
   "metadata": {},
   "source": [
    "## 5. Advanced Queries and Analysis"
   ]
  },
  {
   "cell_type": "code",
   "execution_count": 35,
   "metadata": {},
   "outputs": [
    {
     "name": "stdout",
     "output_type": "stream",
     "text": [
      "Shortest path between Alice Johnson and Henry Taylor:\n",
      "Path length: 2\n",
      "Connection: Alice Johnson -> Tech: Python -> Henry Taylor\n"
     ]
    }
   ],
   "source": [
    "# Advanced Query 1: Find shortest path between two people\n",
    "query = \"\"\"\n",
    "MATCH path = shortestPath((p1:Person {name: 'Alice Johnson'})-[*]-(p2:Person {name: 'Henry Taylor'}))\n",
    "RETURN [node in nodes(path) | \n",
    "    CASE \n",
    "        WHEN 'Person' IN labels(node) THEN node.name\n",
    "        WHEN 'Company' IN labels(node) THEN 'Company: ' + node.name\n",
    "        WHEN 'Project' IN labels(node) THEN 'Project: ' + node.name\n",
    "        WHEN 'Technology' IN labels(node) THEN 'Tech: ' + node.name\n",
    "        ELSE 'Unknown'\n",
    "    END\n",
    "] as connection_path,\n",
    "length(path) as path_length\n",
    "\"\"\"\n",
    "\n",
    "result = conn.run_query(query)\n",
    "if result:\n",
    "    print(\"Shortest path between Alice Johnson and Henry Taylor:\")\n",
    "    print(f\"Path length: {result[0]['path_length']}\")\n",
    "    print(\"Connection: \" + \" -> \".join(result[0]['connection_path']))\n",
    "else:\n",
    "    print(\"No path found between the specified people.\")"
   ]
  },
  {
   "cell_type": "code",
   "execution_count": 36,
   "metadata": {},
   "outputs": [
    {
     "name": "stdout",
     "output_type": "stream",
     "text": [
      "Technology Influencers (Top 5):\n",
      "       person             role    company  tech_count  avg_proficiency  influence_score\n",
      "Alice Johnson Senior Developer   TechCorp           4             8.75             35.0\n",
      " David Wilson      ML Engineer AIVentures           4             8.50             34.9\n",
      "    Grace Lee  Cloud Architect  CloudFlow           4             8.00             34.5\n",
      "  Carol Davis  DevOps Engineer  CloudFlow           4             7.25             34.5\n",
      "    Bob Smith   Data Scientist  DataWorks           4             8.75             34.4\n"
     ]
    }
   ],
   "source": [
    "# Advanced Query 2: Find technology influencers (people who know popular technologies)\n",
    "query = \"\"\"\n",
    "MATCH (p:Person)-[k:KNOWS]->(t:Technology)\n",
    "WITH p, \n",
    "     count(t) as tech_count,\n",
    "     avg(k.proficiency) as avg_proficiency,\n",
    "     sum(t.popularity) as influence_score\n",
    "MATCH (p)-[:WORKS_FOR]->(c:Company)\n",
    "RETURN p.name as person,\n",
    "       p.role as role,\n",
    "       c.name as company,\n",
    "       tech_count,\n",
    "       round(avg_proficiency, 2) as avg_proficiency,\n",
    "       round(influence_score, 2) as influence_score\n",
    "ORDER BY influence_score DESC, avg_proficiency DESC\n",
    "LIMIT 5\n",
    "\"\"\"\n",
    "\n",
    "result = conn.run_query(query)\n",
    "df_influencers = pd.DataFrame([dict(record) for record in result])\n",
    "print(\"Technology Influencers (Top 5):\")\n",
    "print(df_influencers.to_string(index=False))"
   ]
  },
  {
   "cell_type": "markdown",
   "metadata": {},
   "source": [
    "## 6. Data Visualization"
   ]
  },
  {
   "cell_type": "code",
   "execution_count": 37,
   "metadata": {},
   "outputs": [
    {
     "data": {
      "image/png": "[encoded data removed]",
      "text/plain": [
       "<Figure size 1500x600 with 2 Axes>"
      ]
     },
     "metadata": {},
     "output_type": "display_data"
    }
   ],
   "source": [
    "# Visualization 1: Technology popularity distribution\n",
    "fig, (ax1, ax2) = plt.subplots(1, 2, figsize=(15, 6))\n",
    "\n",
    "# Chart 1: People count by technology\n",
    "df_tech_sorted = df_tech.sort_values('people_count', ascending=True)\n",
    "ax1.barh(df_tech_sorted['technology'], df_tech_sorted['people_count'])\n",
    "ax1.set_xlabel('Number of People')\n",
    "ax1.set_title('Technology Adoption in Our Organization')\n",
    "ax1.grid(axis='x', alpha=0.3)\n",
    "\n",
    "# Chart 2: Average proficiency by technology\n",
    "df_tech_sorted2 = df_tech.sort_values('avg_proficiency', ascending=True)\n",
    "bars = ax2.barh(df_tech_sorted2['technology'], df_tech_sorted2['avg_proficiency'])\n",
    "ax2.set_xlabel('Average Proficiency Level')\n",
    "ax2.set_title('Average Skill Proficiency by Technology')\n",
    "ax2.grid(axis='x', alpha=0.3)\n",
    "\n",
    "# Color bars based on proficiency level\n",
    "for i, bar in enumerate(bars):\n",
    "    proficiency = df_tech_sorted2.iloc[i]['avg_proficiency']\n",
    "    if proficiency >= 8:\n",
    "        bar.set_color('green')\n",
    "    elif proficiency >= 7:\n",
    "        bar.set_color('orange')\n",
    "    else:\n",
    "        bar.set_color('red')\n",
    "\n",
    "plt.tight_layout()\n",
    "plt.show()"
   ]
  },
  {
   "cell_type": "code",
   "execution_count": 38,
   "metadata": {},
   "outputs": [
    {
     "data": {
      "image/png": "[encoded data removed]",
      "text/plain": [
       "<Figure size 1500x600 with 2 Axes>"
      ]
     },
     "metadata": {},
     "output_type": "display_data"
    }
   ],
   "source": [
    "# Visualization 2: Company and project budget analysis\n",
    "query = \"\"\"\n",
    "MATCH (c:Company)<-[:WORKS_FOR]-(p:Person)-[:WORKED_ON]->(pr:Project)\n",
    "RETURN c.name as company, \n",
    "       count(DISTINCT pr) as projects_count,\n",
    "       sum(pr.budget) as total_budget,\n",
    "       avg(pr.budget) as avg_project_budget\n",
    "ORDER BY total_budget DESC\n",
    "\"\"\"\n",
    "\n",
    "result = conn.run_query(query)\n",
    "df_company_projects = pd.DataFrame([dict(record) for record in result])\n",
    "\n",
    "fig, (ax1, ax2) = plt.subplots(1, 2, figsize=(15, 6))\n",
    "\n",
    "# Chart 1: Total budget by company\n",
    "ax1.pie(df_company_projects['total_budget'], \n",
    "        labels=df_company_projects['company'],\n",
    "        autopct='%1.1f%%',\n",
    "        startangle=90)\n",
    "ax1.set_title('Total Project Budget by Company')\n",
    "\n",
    "# Chart 2: Project count vs average budget\n",
    "scatter = ax2.scatter(df_company_projects['projects_count'], \n",
    "                     df_company_projects['avg_project_budget'],\n",
    "                     s=df_company_projects['total_budget']/10000,  # Size based on total budget\n",
    "                     alpha=0.7)\n",
    "ax2.set_xlabel('Number of Projects')\n",
    "ax2.set_ylabel('Average Project Budget ($)')\n",
    "ax2.set_title('Project Count vs Average Budget\\n(Bubble size = Total Budget)')\n",
    "\n",
    "# Add company labels\n",
    "for i, company in enumerate(df_company_projects['company']):\n",
    "    ax2.annotate(company, \n",
    "                (df_company_projects.iloc[i]['projects_count'], \n",
    "                 df_company_projects.iloc[i]['avg_project_budget']),\n",
    "                xytext=(5, 5), textcoords='offset points')\n",
    "\n",
    "plt.tight_layout()\n",
    "plt.show()"
   ]
  },
  {
   "cell_type": "code",
   "execution_count": 39,
   "metadata": {},
   "outputs": [
    {
     "data": {
      "image/png": "[encoded data removed]",
      "text/plain": [
       "<Figure size 1000x600 with 1 Axes>"
      ]
     },
     "metadata": {},
     "output_type": "display_data"
    },
    {
     "name": "stdout",
     "output_type": "stream",
     "text": [
      "Internal collaborations: 20\n",
      "Cross-company collaborations: 32\n"
     ]
    }
   ],
   "source": [
    "# Visualization 3: Collaboration network analysis\n",
    "collaboration_summary = df_collab['collaboration_type'].value_counts()\n",
    "\n",
    "plt.figure(figsize=(10, 6))\n",
    "bars = plt.bar(collaboration_summary.index, collaboration_summary.values)\n",
    "plt.title('Collaboration Patterns: Internal vs Cross-Company')\n",
    "plt.ylabel('Number of Collaborations')\n",
    "plt.xlabel('Collaboration Type')\n",
    "\n",
    "# Add value labels on bars\n",
    "for bar in bars:\n",
    "    height = bar.get_height()\n",
    "    plt.text(bar.get_x() + bar.get_width()/2., height + 0.1,\n",
    "             f'{int(height)}', ha='center', va='bottom')\n",
    "\n",
    "plt.grid(axis='y', alpha=0.3)\n",
    "plt.show()\n",
    "\n",
    "print(f\"Internal collaborations: {collaboration_summary.get('Internal', 0)}\")\n",
    "print(f\"Cross-company collaborations: {collaboration_summary.get('Cross-Company', 0)}\")"
   ]
  },
  {
   "cell_type": "markdown",
   "metadata": {},
   "source": [
    "## 7. Interactive Exploration Queries\n",
    "\n",
    "Use these cells to run your own custom queries!"
   ]
  },
  {
   "cell_type": "code",
   "execution_count": 40,
   "metadata": {},
   "outputs": [
    {
     "name": "stdout",
     "output_type": "stream",
     "text": [
      "Query Results:\n",
      "       person               role    company\n",
      "Alice Johnson   Senior Developer   TechCorp\n",
      "    Bob Smith     Data Scientist  DataWorks\n",
      "  Carol Davis    DevOps Engineer  CloudFlow\n",
      " David Wilson        ML Engineer AIVentures\n",
      "    Eva Brown Frontend Developer   TechCorp\n",
      " Frank Miller  Backend Developer  DataWorks\n",
      "    Grace Lee    Cloud Architect  CloudFlow\n",
      " Henry Taylor Research Scientist AIVentures\n"
     ]
    }
   ],
   "source": [
    "# Custom query cell - modify the query below to explore the data\n",
    "custom_query = \"\"\"\n",
    "MATCH (p:Person)-[:KNOWS]->(t:Technology {name: 'Python'})\n",
    "MATCH (p)-[:WORKS_FOR]->(c:Company)\n",
    "RETURN p.name as person, p.role as role, c.name as company\n",
    "ORDER BY p.name\n",
    "\"\"\"\n",
    "\n",
    "try:\n",
    "    result = conn.run_query(custom_query)\n",
    "    if result:\n",
    "        df_custom = pd.DataFrame([dict(record) for record in result])\n",
    "        print(\"Query Results:\")\n",
    "        print(df_custom.to_string(index=False))\n",
    "    else:\n",
    "        print(\"No results found.\")\n",
    "except Exception as e:\n",
    "    print(f\"Query error: {e}\")"
   ]
  },
  {
   "cell_type": "code",
   "execution_count": 41,
   "metadata": {},
   "outputs": [
    {
     "name": "stdout",
     "output_type": "stream",
     "text": [
      "Technologies used in 'Customer Analytics Platform':\n",
      "- AWS (Cloud Platform)\n",
      "- Neo4j (Database)\n",
      "- TensorFlow (Machine Learning)\n",
      "- Python (Programming Language)\n"
     ]
    }
   ],
   "source": [
    "# Practice Query 1: Find all technologies used in a specific project\n",
    "project_name = \"Customer Analytics Platform\"  # Change this to explore different projects\n",
    "\n",
    "query = f\"\"\"\n",
    "MATCH (pr:Project {{name: '{project_name}'}})-[:USES]->(t:Technology)\n",
    "RETURN t.name as technology, t.category as category\n",
    "ORDER BY t.category, t.name\n",
    "\"\"\"\n",
    "\n",
    "result = conn.run_query(query)\n",
    "print(f\"Technologies used in '{project_name}':\")\n",
    "for record in result:\n",
    "    print(f\"- {record['technology']} ({record['category']})\")"
   ]
  },
  {
   "cell_type": "code",
   "execution_count": 42,
   "metadata": {},
   "outputs": [
    {
     "name": "stdout",
     "output_type": "stream",
     "text": [
      "Potential Mentors (High proficiency in multiple technologies):\n",
      "- Alice Johnson (Senior Developer) at TechCorp\n",
      "  Expert in 3 technologies with avg proficiency 9.33\n",
      "- Bob Smith (Data Scientist) at DataWorks\n",
      "  Expert in 3 technologies with avg proficiency 9.33\n",
      "- David Wilson (ML Engineer) at AIVentures\n",
      "  Expert in 3 technologies with avg proficiency 9.0\n",
      "- Frank Miller (Backend Developer) at DataWorks\n",
      "  Expert in 3 technologies with avg proficiency 8.67\n",
      "- Grace Lee (Cloud Architect) at CloudFlow\n",
      "  Expert in 2 technologies with avg proficiency 9.5\n",
      "- Eva Brown (Frontend Developer) at TechCorp\n",
      "  Expert in 2 technologies with avg proficiency 9.0\n",
      "- Carol Davis (DevOps Engineer) at CloudFlow\n",
      "  Expert in 2 technologies with avg proficiency 8.5\n",
      "- Henry Taylor (Research Scientist) at AIVentures\n",
      "  Expert in 2 technologies with avg proficiency 8.5\n"
     ]
    }
   ],
   "source": [
    "# Practice Query 2: Find people who could be good mentors (high proficiency in multiple technologies)\n",
    "query = \"\"\"\n",
    "MATCH (p:Person)-[k:KNOWS]->(t:Technology)\n",
    "WHERE k.proficiency >= 8\n",
    "WITH p, count(t) as high_skill_count, avg(k.proficiency) as avg_proficiency\n",
    "WHERE high_skill_count >= 2\n",
    "MATCH (p)-[:WORKS_FOR]->(c:Company)\n",
    "RETURN p.name as potential_mentor,\n",
    "       p.role as role,\n",
    "       c.name as company,\n",
    "       high_skill_count as expert_technologies,\n",
    "       round(avg_proficiency, 2) as avg_expertise_level\n",
    "ORDER BY high_skill_count DESC, avg_proficiency DESC\n",
    "\"\"\"\n",
    "\n",
    "result = conn.run_query(query)\n",
    "print(\"Potential Mentors (High proficiency in multiple technologies):\")\n",
    "for record in result:\n",
    "    print(f\"- {record['potential_mentor']} ({record['role']}) at {record['company']}\")\n",
    "    print(f\"  Expert in {record['expert_technologies']} technologies with avg proficiency {record['avg_expertise_level']}\")"
   ]
  },
  {
   "cell_type": "markdown",
   "metadata": {},
   "source": [
    "## 8. Summary and Next Steps\n",
    "\n",
    "This notebook demonstrated:\n",
    "\n",
    "1. **Connection Setup**: How to connect to both local Neo4j and Aura instances\n",
    "2. **Data Modeling**: Creating a realistic knowledge graph with multiple node types and relationships\n",
    "3. **Basic Queries**: Simple pattern matching and data retrieval\n",
    "4. **Advanced Queries**: Path finding, aggregation, and analytical queries\n",
    "5. **Visualization**: Creating charts and graphs from Neo4j data\n",
    "6. **Interactive Exploration**: Custom queries for ongoing learning\n",
    "\n",
    "### Key Neo4j Concepts Covered:\n",
    "- **Nodes**: Entities (Person, Company, Technology, Project)\n",
    "- **Relationships**: Connections with properties (WORKS_FOR, KNOWS, WORKED_ON, etc.)\n",
    "- **Properties**: Attributes on nodes and relationships\n",
    "- **Cypher**: Neo4j's query language\n",
    "- **Patterns**: How to match and traverse the graph\n",
    "\n",
    "### Suggested Next Steps:\n",
    "1. Experiment with more complex queries\n",
    "2. Add more data (locations, departments, certifications)\n",
    "3. Try graph algorithms (if APOC is available)\n",
    "4. Build a simple web application using this data\n",
    "5. Explore Neo4j Bloom for visual graph exploration"
   ]
  },
  {
   "cell_type": "code",
   "execution_count": 43,
   "metadata": {},
   "outputs": [
    {
     "name": "stdout",
     "output_type": "stream",
     "text": [
      "Database connection closed.\n",
      "\n",
      "Thanks for exploring Neo4j! 🎉\n",
      "Feel free to modify and extend this notebook for your learning journey.\n"
     ]
    }
   ],
   "source": [
    "# Clean up: Close the database connection\n",
    "conn.close()\n",
    "print(\"Database connection closed.\")\n",
    "print(\"\\nThanks for exploring Neo4j! 🎉\")\n",
    "print(\"Feel free to modify and extend this notebook for your learning journey.\")"
   ]
  },
  {
   "cell_type": "code",
   "execution_count": null,
   "metadata": {},
   "outputs": [],
   "source": []
  }
 ],
 "metadata": {
  "kernelspec": {
   "display_name": "Python 3 (ipykernel)",
   "language": "python",
   "name": "python3"
  },
  "language_info": {
   "codemirror_mode": {
    "name": "ipython",
    "version": 3
   },
   "file_extension": ".py",
   "mimetype": "text/x-python",
   "name": "python",
   "nbconvert_exporter": "python",
   "pygments_lexer": "ipython3",
   "version": "3.9.18"
  }
 },
 "nbformat": 4,
 "nbformat_minor": 4
}
